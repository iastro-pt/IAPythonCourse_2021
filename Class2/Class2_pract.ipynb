{
 "metadata": {
  "language_info": {
   "codemirror_mode": {
    "name": "ipython",
    "version": 3
   },
   "file_extension": ".py",
   "mimetype": "text/x-python",
   "name": "python",
   "nbconvert_exporter": "python",
   "pygments_lexer": "ipython3",
   "version": "3.8.8"
  },
  "orig_nbformat": 2,
  "kernelspec": {
   "name": "python388jvsc74a57bd04726ecd0e048f2f393fee211ab562a21e10886f96c4bdda65825ec1cbf242e5f",
   "display_name": "Python 3.8.8 64-bit ('py38': conda)"
  }
 },
 "nbformat": 4,
 "nbformat_minor": 2,
 "cells": [
  {
   "source": [
    "---\n",
    "# Python Course - Practical Class 2:\n",
    "# Scientific Libraries and Data Manipulation\n",
    "---"
   ],
   "cell_type": "markdown",
   "metadata": {}
  },
  {
   "source": [
    "## Exercice #1 - Querying Databases\n",
    "\n",
    "Consider the star Helvetios: \n",
    "\n",
    "&rarr; How many $mag_V < 6$ stars can you find within 1 degree of the star?\n",
    "\n",
    "&rarr; How many of these stars are of the $G$ spectral type?\n",
    "\n",
    "&rarr; are there any ESPRESSO@VLT observations of Helvetios in 2019?\n",
    "\n",
    "\n"
   ],
   "cell_type": "markdown",
   "metadata": {}
  },
  {
   "source": [
    "--- \n",
    "## Exercice #2 - Data fitting\n",
    "\n",
    "Consider the data from file `class2_prat_data.txt`. Using the Numpy/Scipy libraries:\n",
    "&rarr; load the data from the file and assign the first column to an array X e the second to an array Y.\n",
    "&rarr; fit a linear function to the data.\n",
    "&rarr; fit a quadratic function to the data.\n",
    "&rarr; fit a sinusoidal function to the data.\n",
    "&rarr; which function fits better the data? (you can plot the data and the fits, see below)\n",
    "\n",
    "TIP: \n",
    "to make scatter plot of a (X,Y) data set, you can use:\n",
    "```\n",
    "import matplotlib.pyplot as mplt\n",
    "mplt.plot(X,Y,'k',color= color, marker = marker)\n",
    "```\n",
    "\n",
    "where 'color' represents the color of thew marker symbol and marker the symbol to be used ('o' for a circle; '.' for a point)"
   ],
   "cell_type": "markdown",
   "metadata": {}
  },
  {
   "source": [
    "--- \n",
    "## Exercice # 3 - Array/Matrix operations\n",
    "\n",
    "&rarr; Create an array A with 4 x 4 elements, and shuffle its values.\n",
    "&rarr; Create an array B with 2 x 4 elements, with all values set to one.\n",
    "&rarr; Create an array C with 4 x 2 elements, with arbitrary values and transpose it.\n",
    "&rarr; Concatenate array B with the transposed of C into array D.\n",
    "&rarr; Compute the cross-product of array D with array A and store it into array E.\n",
    "&rarr; Calculate the median, mean and standard deviation values of array E\n"
   ],
   "cell_type": "markdown",
   "metadata": {}
  },
  {
   "source": [
    "---\n",
    "## Exercice #4 - Median Filter\n",
    "\n",
    "&rarr; Using the Numpy/Scipy/Astropy libraries, replicate the Median Filter exercice from the first practical class of the course\n",
    "&rarr; Compare the runtime of both methods (base Python vs Numpy/Scipy/Astropy libraries)\n",
    "\n",
    "TIP: \n",
    "to compute the runtime for each method you can use:\n",
    "\n",
    "```\n",
    "from time import process_time       # for timing\n",
    "\n",
    "start = process_time()\n",
    "\n",
    "DO SOMETHING\n",
    "\n",
    "end = process_time()\n",
    "\n",
    "runtime = end_py - start_py\n",
    "```"
   ],
   "cell_type": "markdown",
   "metadata": {}
  }
 ]
}