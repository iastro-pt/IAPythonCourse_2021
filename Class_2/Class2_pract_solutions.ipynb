{
 "metadata": {
  "language_info": {
   "codemirror_mode": {
    "name": "ipython",
    "version": 3
   },
   "file_extension": ".py",
   "mimetype": "text/x-python",
   "name": "python",
   "nbconvert_exporter": "python",
   "pygments_lexer": "ipython3",
   "version": "3.8.8"
  },
  "orig_nbformat": 2,
  "kernelspec": {
   "name": "python388jvsc74a57bd04726ecd0e048f2f393fee211ab562a21e10886f96c4bdda65825ec1cbf242e5f",
   "display_name": "Python 3.8.8 64-bit ('py38': conda)"
  }
 },
 "nbformat": 4,
 "nbformat_minor": 2,
 "cells": [
  {
   "source": [
    "---\n",
    "# Python Course - Practical Class 2:\n",
    "# Scientific Libraries and Data Manipulation\n",
    "---"
   ],
   "cell_type": "markdown",
   "metadata": {}
  },
  {
   "source": [
    "## Exercice #1 - Querying Databases\n",
    "\n",
    "Consider the star Helvetios: \n",
    "\n",
    "&rarr; How many $mag_V < $ stars can you find within 1 degree of the star?"
   ],
   "cell_type": "markdown",
   "metadata": {}
  },
  {
   "cell_type": "code",
   "execution_count": 14,
   "metadata": {},
   "outputs": [
    {
     "output_type": "stream",
     "name": "stdout",
     "text": [
      "default VOTable fields in Simbad API: ['main_id', 'coordinates']\n",
      "\n",
      "updated VOTable fields in Simbad API: ['main_id', 'coordinates', 'sptype', 'flux(V)']\n",
      "\n",
      " MAIN_ID        RA           DEC      SP_TYPE FLUX_V\n",
      "             \"h:m:s\"       \"d:m:s\"             mag  \n",
      "--------- ------------- ------------- ------- ------\n",
      "*  51 Peg 22 57 27.9804 +20 46 07.782    G2IV   5.46 \n",
      "\n",
      "    MAIN_ID           RA           DEC      SP_TYPE FLUX_V\n",
      "                   \"h:m:s\"       \"d:m:s\"             mag  \n",
      "--------------- ------------- ------------- ------- ------\n",
      "      *  51 Peg 22 57 27.9804 +20 46 07.782    G2IV   5.46\n",
      "      HD 217116 22 58 07.9632 +20 44 33.313      K0   8.15\n",
      "  TYC 1717-30-1 22 58 00.9166 +20 31 27.725     F9V   9.85\n",
      "    BD+20  5251 22 57 12.7494 +21 06 32.720      G5   9.57\n",
      "    BD+19  5033 22 56 21.8469 +20 31 01.015      F5   9.69\n",
      "      HD 217317 22 59 42.6280 +20 37 15.471      F0   9.23\n",
      "      HD 217385 23 00 03.7906 +21 13 10.573      F2   7.64\n",
      "    V* V338 Peg 22 58 06.4171 +21 30 47.434           7.38\n",
      "    BD+19  5029 22 54 20.8186 +20 29 12.119      G5   9.08\n",
      "     HD 216671A 22 54 36.6058 +20 19 59.101     F9V   8.96\n",
      "      HD 217015 22 57 24.5132 +19 57 45.480      K5   8.45\n",
      "TYC 1714-1701-2  22 57 24.493  +19 57 45.43           9.75\n",
      "    BD+20  5245 22 55 26.2982 +21 27 56.531      F0   9.67\n",
      " TYC 1714-134-1 22 57 33.5858 +19 52 21.661     G1V   9.67\n",
      "      HD 216880 22 56 30.0491 +19 50 42.218      K0   9.28\n",
      "      HD 217478 23 00 49.1923 +21 22 53.412      K0   7.44\n",
      "      HD 217557 23 01 17.3083 +21 12 58.701      K2   8.78\n"
     ]
    }
   ],
   "source": [
    "from astroquery.simbad import Simbad\n",
    "import astropy.units as u\n",
    "\n",
    "# define custom Simbad query\n",
    "customSimbad = Simbad()\n",
    "print('default VOTable fields in Simbad API: {}\\n'.format(customSimbad.get_votable_fields()))\n",
    "\n",
    "# Add VoTable fields to custom query Simbad\n",
    "customSimbad.add_votable_fields('sptype','flux(V)')\n",
    "print('updated VOTable fields in Simbad API: {}\\n'.format(customSimbad.get_votable_fields()))\n",
    "\n",
    "# query for Helvetios Main Identifier and coordinates\n",
    "object_table = customSimbad.query_object(\"Helvetios\")\n",
    "Helvetios_coords = object_table['MAIN_ID','RA','DEC','SP_TYPE', 'FLUX_V']\n",
    "print(Helvetios_coords, '\\n')\n",
    "\n",
    "# query for region of 1 deg around Helvetios coordinates\n",
    "region_table = customSimbad.query_region(\"Helvetios\", radius=1. * u.deg)\n",
    "\n",
    "mask_mag = (region_table[\"FLUX_V\"] < 10 ) \n",
    "\n",
    "print(region_table[mask_mag]['MAIN_ID','RA','DEC','SP_TYPE', 'FLUX_V'])\n"
   ]
  },
  {
   "source": [
    "&rarr; How many of these stars are of the $G$ spectral type?"
   ],
   "cell_type": "markdown",
   "metadata": {}
  },
  {
   "cell_type": "code",
   "execution_count": 15,
   "metadata": {},
   "outputs": [
    {
     "output_type": "stream",
     "name": "stdout",
     "text": [
      "   MAIN_ID           RA           DEC      SP_TYPE FLUX_V\n                  \"h:m:s\"       \"d:m:s\"             mag  \n-------------- ------------- ------------- ------- ------\n     *  51 Peg 22 57 27.9804 +20 46 07.782    G2IV   5.46\n   BD+20  5251 22 57 12.7494 +21 06 32.720      G5   9.57\n   BD+19  5029 22 54 20.8186 +20 29 12.119      G5   9.08\nTYC 1714-134-1 22 57 33.5858 +19 52 21.661     G1V   9.67\n"
     ]
    }
   ],
   "source": [
    "mask_sp = ([True  if 'G' in pos else False for pos in region_table[mask_mag][\"SP_TYPE\"] ])\n",
    "\n",
    "print (region_table[mask_mag]['MAIN_ID','RA','DEC','SP_TYPE', 'FLUX_V'][mask_sp])"
   ]
  },
  {
   "source": [
    "&rarr; are there any ESPRESSO@VLT observations of Helvetios in 2019?"
   ],
   "cell_type": "markdown",
   "metadata": {}
  },
  {
   "cell_type": "code",
   "execution_count": 16,
   "metadata": {},
   "outputs": [
    {
     "output_type": "stream",
     "name": "stdout",
     "text": [
      "INFO: Authenticating jhumberto on www.eso.org... [astroquery.eso.core]\n",
      "INFO: Authentication successful! [astroquery.eso.core]\n",
      "None\n",
      "WARNING: NoResultsWarning: Query returned no results [astroquery.eso.core]\n"
     ]
    }
   ],
   "source": [
    "from astroquery.eso import Eso\n",
    "\n",
    "# creating ESO query\n",
    "eso = Eso()\n",
    "eso.login(\"jhumberto\", store_password=True) \n",
    "\n",
    "# Check accepted instrument query parameters\n",
    "# eso.query_instrument('espresso', help=True)\n",
    "\n",
    "results = eso.query_instrument('espresso', column_filters={'target':'Helvetios','resolver':'simbad','stime':'2019-01-01', 'etime':'2019-12-31'})\n",
    "\n",
    "print (results)"
   ]
  },
  {
   "source": [
    "--- \n",
    "## Exercice #2 - Data fitting\n",
    "\n",
    "Consider the data from file `class2_prat_data.txt`. Using the Numpy/Scipy libraries:\n",
    "\n",
    "&rarr; load the data from the file and assign the first column to an array X e the second to an array Y."
   ],
   "cell_type": "markdown",
   "metadata": {}
  },
  {
   "cell_type": "code",
   "execution_count": 17,
   "metadata": {},
   "outputs": [],
   "source": [
    "import numpy as np\n",
    "\n",
    "\n",
    "# load data from file\n",
    "X,Y = np.genfromtxt('./class2_prat_data.txt',unpack = True)"
   ]
  },
  {
   "source": [
    "&rarr; fit a linear function to the data."
   ],
   "cell_type": "markdown",
   "metadata": {}
  },
  {
   "cell_type": "code",
   "execution_count": 18,
   "metadata": {},
   "outputs": [
    {
     "output_type": "stream",
     "name": "stdout",
     "text": [
      "a = -0.07058112614282641\nb = 0.21583234322938116\n"
     ]
    }
   ],
   "source": [
    "from scipy.optimize import curve_fit\n",
    "\n",
    "# define linear function\n",
    "def linear(x, a, b):\n",
    "    '''\n",
    "    linear function of the form y = a * x + b\n",
    "    '''\n",
    "    return a * x + b\n",
    "    \n",
    "params_lin, params_lin_cov = curve_fit(linear, X, Y)\n",
    "print(\"a =\", params_lin[0])\n",
    "print(\"b =\", params_lin[1])\n"
   ]
  },
  {
   "source": [
    "&rarr; fit a quadratic function to the data."
   ],
   "cell_type": "markdown",
   "metadata": {}
  },
  {
   "cell_type": "code",
   "execution_count": 19,
   "metadata": {},
   "outputs": [
    {
     "output_type": "stream",
     "name": "stdout",
     "text": [
      "a = 0.005242956369312046\nb = -0.07058110298484199\nb = 0.03393384316547876\n"
     ]
    }
   ],
   "source": [
    "# define quadratic function\n",
    "def quadratic(x, a, b, c):\n",
    "    '''\n",
    "    quadratic function of the form y = a * x^2 + b * x + c\n",
    "    '''\n",
    "    return a * x**2 + b * x + c\n",
    "    \n",
    "params_quad, params_quad_cov = curve_fit(quadratic, X, Y)\n",
    "print(\"a =\", params_quad[0])\n",
    "print(\"b =\", params_quad[1])\n",
    "print(\"b =\", params_quad[2])"
   ]
  },
  {
   "source": [
    "&rarr; fit a sinusoidal function to the data."
   ],
   "cell_type": "markdown",
   "metadata": {}
  },
  {
   "cell_type": "code",
   "execution_count": 20,
   "metadata": {},
   "outputs": [
    {
     "output_type": "stream",
     "name": "stdout",
     "text": [
      "A = 3.1698457512430016\nB = 0.10203925763717421\nw = 1.484018691343565\nphi = 1.5737405082073326\n"
     ]
    }
   ],
   "source": [
    "# define sinusoidal function\n",
    "def sinusoidal(x, A, B, w, phi):\n",
    "    '''\n",
    "    sinusoidal function of the form y = A * sin(w * x + phi) + B\n",
    "    '''\n",
    "    return A * np.sin(w * x + phi) + B\n",
    "    \n",
    "params_sinus, params_sinus_cov = curve_fit(sinusoidal, X, Y, p0 = [3., 1., 1., 3.14/8.], bounds = ([2, 0.,0.,0.],[10.,5., 5.0,3.14*2]))\n",
    "print(\"A =\", params_sinus[0])\n",
    "print(\"B =\", params_sinus[1])\n",
    "print(\"w =\", params_sinus[2])\n",
    "print(\"phi =\", params_sinus[3])"
   ]
  },
  {
   "source": [
    "&rarr; which function fits better the data? (you can plot the data and the fits, see below)"
   ],
   "cell_type": "markdown",
   "metadata": {}
  },
  {
   "cell_type": "code",
   "execution_count": 21,
   "metadata": {},
   "outputs": [
    {
     "output_type": "execute_result",
     "data": {
      "text/plain": [
       "<matplotlib.legend.Legend at 0x7f4b364df730>"
      ]
     },
     "metadata": {},
     "execution_count": 21
    },
    {
     "output_type": "display_data",
     "data": {
      "text/plain": "<Figure size 1080x432 with 1 Axes>",
      "image/svg+xml": "<?xml version=\"1.0\" encoding=\"utf-8\" standalone=\"no\"?>\n<!DOCTYPE svg PUBLIC \"-//W3C//DTD SVG 1.1//EN\"\n  \"http://www.w3.org/Graphics/SVG/1.1/DTD/svg11.dtd\">\n<svg height=\"357.238125pt\" version=\"1.1\" viewBox=\"0 0 873.142187 357.238125\" width=\"873.142187pt\" xmlns=\"http://www.w3.org/2000/svg\" xmlns:xlink=\"http://www.w3.org/1999/xlink\">\n <metadata>\n  <rdf:RDF xmlns:cc=\"http://creativecommons.org/ns#\" xmlns:dc=\"http://purl.org/dc/elements/1.1/\" xmlns:rdf=\"http://www.w3.org/1999/02/22-rdf-syntax-ns#\">\n   <cc:Work>\n    <dc:type rdf:resource=\"http://purl.org/dc/dcmitype/StillImage\"/>\n    <dc:date>2021-04-20T23:29:16.240207</dc:date>\n    <dc:format>image/svg+xml</dc:format>\n    <dc:creator>\n     <cc:Agent>\n      <dc:title>Matplotlib v3.4.1, https://matplotlib.org/</dc:title>\n     </cc:Agent>\n    </dc:creator>\n   </cc:Work>\n  </rdf:RDF>\n </metadata>\n <defs>\n  <style type=\"text/css\">*{stroke-linecap:butt;stroke-linejoin:round;}</style>\n </defs>\n <g id=\"figure_1\">\n  <g id=\"patch_1\">\n   <path d=\"M 0 357.238125 \nL 873.142188 357.238125 \nL 873.142188 0 \nL 0 0 \nz\n\" style=\"fill:none;\"/>\n  </g>\n  <g id=\"axes_1\">\n   <g id=\"patch_2\">\n    <path d=\"M 28.942188 333.36 \nL 865.942188 333.36 \nL 865.942188 7.2 \nL 28.942188 7.2 \nz\n\" style=\"fill:#ffffff;\"/>\n   </g>\n   <g id=\"matplotlib.axis_1\">\n    <g id=\"xtick_1\">\n     <g id=\"line2d_1\">\n      <defs>\n       <path d=\"M 0 0 \nL 0 3.5 \n\" id=\"m565bacc385\" style=\"stroke:#000000;stroke-width:0.8;\"/>\n      </defs>\n      <g>\n       <use style=\"stroke:#000000;stroke-width:0.8;\" x=\"66.987642\" xlink:href=\"#m565bacc385\" y=\"333.36\"/>\n      </g>\n     </g>\n     <g id=\"text_1\">\n      <!-- −10.0 -->\n      <g transform=\"translate(51.664986 347.958438)scale(0.1 -0.1)\">\n       <defs>\n        <path d=\"M 678 2272 \nL 4684 2272 \nL 4684 1741 \nL 678 1741 \nL 678 2272 \nz\n\" id=\"DejaVuSans-2212\" transform=\"scale(0.015625)\"/>\n        <path d=\"M 794 531 \nL 1825 531 \nL 1825 4091 \nL 703 3866 \nL 703 4441 \nL 1819 4666 \nL 2450 4666 \nL 2450 531 \nL 3481 531 \nL 3481 0 \nL 794 0 \nL 794 531 \nz\n\" id=\"DejaVuSans-31\" transform=\"scale(0.015625)\"/>\n        <path d=\"M 2034 4250 \nQ 1547 4250 1301 3770 \nQ 1056 3291 1056 2328 \nQ 1056 1369 1301 889 \nQ 1547 409 2034 409 \nQ 2525 409 2770 889 \nQ 3016 1369 3016 2328 \nQ 3016 3291 2770 3770 \nQ 2525 4250 2034 4250 \nz\nM 2034 4750 \nQ 2819 4750 3233 4129 \nQ 3647 3509 3647 2328 \nQ 3647 1150 3233 529 \nQ 2819 -91 2034 -91 \nQ 1250 -91 836 529 \nQ 422 1150 422 2328 \nQ 422 3509 836 4129 \nQ 1250 4750 2034 4750 \nz\n\" id=\"DejaVuSans-30\" transform=\"scale(0.015625)\"/>\n        <path d=\"M 684 794 \nL 1344 794 \nL 1344 0 \nL 684 0 \nL 684 794 \nz\n\" id=\"DejaVuSans-2e\" transform=\"scale(0.015625)\"/>\n       </defs>\n       <use xlink:href=\"#DejaVuSans-2212\"/>\n       <use x=\"83.789062\" xlink:href=\"#DejaVuSans-31\"/>\n       <use x=\"147.412109\" xlink:href=\"#DejaVuSans-30\"/>\n       <use x=\"211.035156\" xlink:href=\"#DejaVuSans-2e\"/>\n       <use x=\"242.822266\" xlink:href=\"#DejaVuSans-30\"/>\n      </g>\n     </g>\n    </g>\n    <g id=\"xtick_2\">\n     <g id=\"line2d_2\">\n      <g>\n       <use style=\"stroke:#000000;stroke-width:0.8;\" x=\"162.101278\" xlink:href=\"#m565bacc385\" y=\"333.36\"/>\n      </g>\n     </g>\n     <g id=\"text_2\">\n      <!-- −7.5 -->\n      <g transform=\"translate(149.959872 347.958438)scale(0.1 -0.1)\">\n       <defs>\n        <path d=\"M 525 4666 \nL 3525 4666 \nL 3525 4397 \nL 1831 0 \nL 1172 0 \nL 2766 4134 \nL 525 4134 \nL 525 4666 \nz\n\" id=\"DejaVuSans-37\" transform=\"scale(0.015625)\"/>\n        <path d=\"M 691 4666 \nL 3169 4666 \nL 3169 4134 \nL 1269 4134 \nL 1269 2991 \nQ 1406 3038 1543 3061 \nQ 1681 3084 1819 3084 \nQ 2600 3084 3056 2656 \nQ 3513 2228 3513 1497 \nQ 3513 744 3044 326 \nQ 2575 -91 1722 -91 \nQ 1428 -91 1123 -41 \nQ 819 9 494 109 \nL 494 744 \nQ 775 591 1075 516 \nQ 1375 441 1709 441 \nQ 2250 441 2565 725 \nQ 2881 1009 2881 1497 \nQ 2881 1984 2565 2268 \nQ 2250 2553 1709 2553 \nQ 1456 2553 1204 2497 \nQ 953 2441 691 2322 \nL 691 4666 \nz\n\" id=\"DejaVuSans-35\" transform=\"scale(0.015625)\"/>\n       </defs>\n       <use xlink:href=\"#DejaVuSans-2212\"/>\n       <use x=\"83.789062\" xlink:href=\"#DejaVuSans-37\"/>\n       <use x=\"147.412109\" xlink:href=\"#DejaVuSans-2e\"/>\n       <use x=\"179.199219\" xlink:href=\"#DejaVuSans-35\"/>\n      </g>\n     </g>\n    </g>\n    <g id=\"xtick_3\">\n     <g id=\"line2d_3\">\n      <g>\n       <use style=\"stroke:#000000;stroke-width:0.8;\" x=\"257.214915\" xlink:href=\"#m565bacc385\" y=\"333.36\"/>\n      </g>\n     </g>\n     <g id=\"text_3\">\n      <!-- −5.0 -->\n      <g transform=\"translate(245.073509 347.958438)scale(0.1 -0.1)\">\n       <use xlink:href=\"#DejaVuSans-2212\"/>\n       <use x=\"83.789062\" xlink:href=\"#DejaVuSans-35\"/>\n       <use x=\"147.412109\" xlink:href=\"#DejaVuSans-2e\"/>\n       <use x=\"179.199219\" xlink:href=\"#DejaVuSans-30\"/>\n      </g>\n     </g>\n    </g>\n    <g id=\"xtick_4\">\n     <g id=\"line2d_4\">\n      <g>\n       <use style=\"stroke:#000000;stroke-width:0.8;\" x=\"352.328551\" xlink:href=\"#m565bacc385\" y=\"333.36\"/>\n      </g>\n     </g>\n     <g id=\"text_4\">\n      <!-- −2.5 -->\n      <g transform=\"translate(340.187145 347.958438)scale(0.1 -0.1)\">\n       <defs>\n        <path d=\"M 1228 531 \nL 3431 531 \nL 3431 0 \nL 469 0 \nL 469 531 \nQ 828 903 1448 1529 \nQ 2069 2156 2228 2338 \nQ 2531 2678 2651 2914 \nQ 2772 3150 2772 3378 \nQ 2772 3750 2511 3984 \nQ 2250 4219 1831 4219 \nQ 1534 4219 1204 4116 \nQ 875 4013 500 3803 \nL 500 4441 \nQ 881 4594 1212 4672 \nQ 1544 4750 1819 4750 \nQ 2544 4750 2975 4387 \nQ 3406 4025 3406 3419 \nQ 3406 3131 3298 2873 \nQ 3191 2616 2906 2266 \nQ 2828 2175 2409 1742 \nQ 1991 1309 1228 531 \nz\n\" id=\"DejaVuSans-32\" transform=\"scale(0.015625)\"/>\n       </defs>\n       <use xlink:href=\"#DejaVuSans-2212\"/>\n       <use x=\"83.789062\" xlink:href=\"#DejaVuSans-32\"/>\n       <use x=\"147.412109\" xlink:href=\"#DejaVuSans-2e\"/>\n       <use x=\"179.199219\" xlink:href=\"#DejaVuSans-35\"/>\n      </g>\n     </g>\n    </g>\n    <g id=\"xtick_5\">\n     <g id=\"line2d_5\">\n      <g>\n       <use style=\"stroke:#000000;stroke-width:0.8;\" x=\"447.442188\" xlink:href=\"#m565bacc385\" y=\"333.36\"/>\n      </g>\n     </g>\n     <g id=\"text_5\">\n      <!-- 0.0 -->\n      <g transform=\"translate(439.490625 347.958438)scale(0.1 -0.1)\">\n       <use xlink:href=\"#DejaVuSans-30\"/>\n       <use x=\"63.623047\" xlink:href=\"#DejaVuSans-2e\"/>\n       <use x=\"95.410156\" xlink:href=\"#DejaVuSans-30\"/>\n      </g>\n     </g>\n    </g>\n    <g id=\"xtick_6\">\n     <g id=\"line2d_6\">\n      <g>\n       <use style=\"stroke:#000000;stroke-width:0.8;\" x=\"542.555824\" xlink:href=\"#m565bacc385\" y=\"333.36\"/>\n      </g>\n     </g>\n     <g id=\"text_6\">\n      <!-- 2.5 -->\n      <g transform=\"translate(534.604261 347.958438)scale(0.1 -0.1)\">\n       <use xlink:href=\"#DejaVuSans-32\"/>\n       <use x=\"63.623047\" xlink:href=\"#DejaVuSans-2e\"/>\n       <use x=\"95.410156\" xlink:href=\"#DejaVuSans-35\"/>\n      </g>\n     </g>\n    </g>\n    <g id=\"xtick_7\">\n     <g id=\"line2d_7\">\n      <g>\n       <use style=\"stroke:#000000;stroke-width:0.8;\" x=\"637.66946\" xlink:href=\"#m565bacc385\" y=\"333.36\"/>\n      </g>\n     </g>\n     <g id=\"text_7\">\n      <!-- 5.0 -->\n      <g transform=\"translate(629.717898 347.958438)scale(0.1 -0.1)\">\n       <use xlink:href=\"#DejaVuSans-35\"/>\n       <use x=\"63.623047\" xlink:href=\"#DejaVuSans-2e\"/>\n       <use x=\"95.410156\" xlink:href=\"#DejaVuSans-30\"/>\n      </g>\n     </g>\n    </g>\n    <g id=\"xtick_8\">\n     <g id=\"line2d_8\">\n      <g>\n       <use style=\"stroke:#000000;stroke-width:0.8;\" x=\"732.783097\" xlink:href=\"#m565bacc385\" y=\"333.36\"/>\n      </g>\n     </g>\n     <g id=\"text_8\">\n      <!-- 7.5 -->\n      <g transform=\"translate(724.831534 347.958438)scale(0.1 -0.1)\">\n       <use xlink:href=\"#DejaVuSans-37\"/>\n       <use x=\"63.623047\" xlink:href=\"#DejaVuSans-2e\"/>\n       <use x=\"95.410156\" xlink:href=\"#DejaVuSans-35\"/>\n      </g>\n     </g>\n    </g>\n    <g id=\"xtick_9\">\n     <g id=\"line2d_9\">\n      <g>\n       <use style=\"stroke:#000000;stroke-width:0.8;\" x=\"827.896733\" xlink:href=\"#m565bacc385\" y=\"333.36\"/>\n      </g>\n     </g>\n     <g id=\"text_9\">\n      <!-- 10.0 -->\n      <g transform=\"translate(816.76392 347.958438)scale(0.1 -0.1)\">\n       <use xlink:href=\"#DejaVuSans-31\"/>\n       <use x=\"63.623047\" xlink:href=\"#DejaVuSans-30\"/>\n       <use x=\"127.246094\" xlink:href=\"#DejaVuSans-2e\"/>\n       <use x=\"159.033203\" xlink:href=\"#DejaVuSans-30\"/>\n      </g>\n     </g>\n    </g>\n   </g>\n   <g id=\"matplotlib.axis_2\">\n    <g id=\"ytick_1\">\n     <g id=\"line2d_10\">\n      <defs>\n       <path d=\"M 0 0 \nL -3.5 0 \n\" id=\"mcc9a8a7635\" style=\"stroke:#000000;stroke-width:0.8;\"/>\n      </defs>\n      <g>\n       <use style=\"stroke:#000000;stroke-width:0.8;\" x=\"28.942188\" xlink:href=\"#mcc9a8a7635\" y=\"282.774592\"/>\n      </g>\n     </g>\n     <g id=\"text_10\">\n      <!-- −4 -->\n      <g transform=\"translate(7.2 286.57381)scale(0.1 -0.1)\">\n       <defs>\n        <path d=\"M 2419 4116 \nL 825 1625 \nL 2419 1625 \nL 2419 4116 \nz\nM 2253 4666 \nL 3047 4666 \nL 3047 1625 \nL 3713 1625 \nL 3713 1100 \nL 3047 1100 \nL 3047 0 \nL 2419 0 \nL 2419 1100 \nL 313 1100 \nL 313 1709 \nL 2253 4666 \nz\n\" id=\"DejaVuSans-34\" transform=\"scale(0.015625)\"/>\n       </defs>\n       <use xlink:href=\"#DejaVuSans-2212\"/>\n       <use x=\"83.789062\" xlink:href=\"#DejaVuSans-34\"/>\n      </g>\n     </g>\n    </g>\n    <g id=\"ytick_2\">\n     <g id=\"line2d_11\">\n      <g>\n       <use style=\"stroke:#000000;stroke-width:0.8;\" x=\"28.942188\" xlink:href=\"#mcc9a8a7635\" y=\"225.054368\"/>\n      </g>\n     </g>\n     <g id=\"text_11\">\n      <!-- −2 -->\n      <g transform=\"translate(7.2 228.853586)scale(0.1 -0.1)\">\n       <use xlink:href=\"#DejaVuSans-2212\"/>\n       <use x=\"83.789062\" xlink:href=\"#DejaVuSans-32\"/>\n      </g>\n     </g>\n    </g>\n    <g id=\"ytick_3\">\n     <g id=\"line2d_12\">\n      <g>\n       <use style=\"stroke:#000000;stroke-width:0.8;\" x=\"28.942188\" xlink:href=\"#mcc9a8a7635\" y=\"167.334143\"/>\n      </g>\n     </g>\n     <g id=\"text_12\">\n      <!-- 0 -->\n      <g transform=\"translate(15.579688 171.133362)scale(0.1 -0.1)\">\n       <use xlink:href=\"#DejaVuSans-30\"/>\n      </g>\n     </g>\n    </g>\n    <g id=\"ytick_4\">\n     <g id=\"line2d_13\">\n      <g>\n       <use style=\"stroke:#000000;stroke-width:0.8;\" x=\"28.942188\" xlink:href=\"#mcc9a8a7635\" y=\"109.613919\"/>\n      </g>\n     </g>\n     <g id=\"text_13\">\n      <!-- 2 -->\n      <g transform=\"translate(15.579688 113.413138)scale(0.1 -0.1)\">\n       <use xlink:href=\"#DejaVuSans-32\"/>\n      </g>\n     </g>\n    </g>\n    <g id=\"ytick_5\">\n     <g id=\"line2d_14\">\n      <g>\n       <use style=\"stroke:#000000;stroke-width:0.8;\" x=\"28.942188\" xlink:href=\"#mcc9a8a7635\" y=\"51.893695\"/>\n      </g>\n     </g>\n     <g id=\"text_14\">\n      <!-- 4 -->\n      <g transform=\"translate(15.579688 55.692914)scale(0.1 -0.1)\">\n       <use xlink:href=\"#DejaVuSans-34\"/>\n      </g>\n     </g>\n    </g>\n   </g>\n   <g id=\"line2d_15\">\n    <defs>\n     <path d=\"M 0 3 \nC 0.795609 3 1.55874 2.683901 2.12132 2.12132 \nC 2.683901 1.55874 3 0.795609 3 0 \nC 3 -0.795609 2.683901 -1.55874 2.12132 -2.12132 \nC 1.55874 -2.683901 0.795609 -3 0 -3 \nC -0.795609 -3 -1.55874 -2.683901 -2.12132 -2.12132 \nC -2.683901 -1.55874 -3 -0.795609 -3 0 \nC -3 0.795609 -2.683901 1.55874 -2.12132 2.12132 \nC -1.55874 2.683901 -0.795609 3 0 3 \nz\n\" id=\"m0f773bb38b\" style=\"stroke:#000000;\"/>\n    </defs>\n    <g clip-path=\"url(#p383c8aafdd)\">\n     <use style=\"stroke:#000000;\" x=\"66.987642\" xlink:href=\"#m0f773bb38b\" y=\"180.004962\"/>\n     <use style=\"stroke:#000000;\" x=\"82.516399\" xlink:href=\"#m0f773bb38b\" y=\"176.539561\"/>\n     <use style=\"stroke:#000000;\" x=\"98.045156\" xlink:href=\"#m0f773bb38b\" y=\"109.474571\"/>\n     <use style=\"stroke:#000000;\" x=\"113.573913\" xlink:href=\"#m0f773bb38b\" y=\"33.439392\"/>\n     <use style=\"stroke:#000000;\" x=\"129.10267\" xlink:href=\"#m0f773bb38b\" y=\"29.751746\"/>\n     <use style=\"stroke:#000000;\" x=\"144.631427\" xlink:href=\"#m0f773bb38b\" y=\"127.792791\"/>\n     <use style=\"stroke:#000000;\" x=\"160.160184\" xlink:href=\"#m0f773bb38b\" y=\"112.718215\"/>\n     <use style=\"stroke:#000000;\" x=\"175.688941\" xlink:href=\"#m0f773bb38b\" y=\"194.935356\"/>\n     <use style=\"stroke:#000000;\" x=\"191.217698\" xlink:href=\"#m0f773bb38b\" y=\"235.535277\"/>\n     <use style=\"stroke:#000000;\" x=\"206.746455\" xlink:href=\"#m0f773bb38b\" y=\"239.00171\"/>\n     <use style=\"stroke:#000000;\" x=\"222.275212\" xlink:href=\"#m0f773bb38b\" y=\"234.64953\"/>\n     <use style=\"stroke:#000000;\" x=\"237.803969\" xlink:href=\"#m0f773bb38b\" y=\"158.826621\"/>\n     <use style=\"stroke:#000000;\" x=\"253.332726\" xlink:href=\"#m0f773bb38b\" y=\"128.667523\"/>\n     <use style=\"stroke:#000000;\" x=\"268.861482\" xlink:href=\"#m0f773bb38b\" y=\"103.021506\"/>\n     <use style=\"stroke:#000000;\" x=\"284.390239\" xlink:href=\"#m0f773bb38b\" y=\"71.712848\"/>\n     <use style=\"stroke:#000000;\" x=\"299.918996\" xlink:href=\"#m0f773bb38b\" y=\"82.966362\"/>\n     <use style=\"stroke:#000000;\" x=\"315.447753\" xlink:href=\"#m0f773bb38b\" y=\"84.701198\"/>\n     <use style=\"stroke:#000000;\" x=\"330.97651\" xlink:href=\"#m0f773bb38b\" y=\"183.320152\"/>\n     <use style=\"stroke:#000000;\" x=\"346.505267\" xlink:href=\"#m0f773bb38b\" y=\"214.286409\"/>\n     <use style=\"stroke:#000000;\" x=\"362.034024\" xlink:href=\"#m0f773bb38b\" y=\"273.554069\"/>\n     <use style=\"stroke:#000000;\" x=\"377.562781\" xlink:href=\"#m0f773bb38b\" y=\"318.534545\"/>\n     <use style=\"stroke:#000000;\" x=\"393.091538\" xlink:href=\"#m0f773bb38b\" y=\"193.779892\"/>\n     <use style=\"stroke:#000000;\" x=\"408.620295\" xlink:href=\"#m0f773bb38b\" y=\"139.024143\"/>\n     <use style=\"stroke:#000000;\" x=\"424.149052\" xlink:href=\"#m0f773bb38b\" y=\"137.940754\"/>\n     <use style=\"stroke:#000000;\" x=\"439.677809\" xlink:href=\"#m0f773bb38b\" y=\"22.025455\"/>\n     <use style=\"stroke:#000000;\" x=\"455.206566\" xlink:href=\"#m0f773bb38b\" y=\"129.503984\"/>\n     <use style=\"stroke:#000000;\" x=\"470.735323\" xlink:href=\"#m0f773bb38b\" y=\"115.201192\"/>\n     <use style=\"stroke:#000000;\" x=\"486.26408\" xlink:href=\"#m0f773bb38b\" y=\"169.374016\"/>\n     <use style=\"stroke:#000000;\" x=\"501.792837\" xlink:href=\"#m0f773bb38b\" y=\"168.407218\"/>\n     <use style=\"stroke:#000000;\" x=\"517.321594\" xlink:href=\"#m0f773bb38b\" y=\"202.449115\"/>\n     <use style=\"stroke:#000000;\" x=\"532.850351\" xlink:href=\"#m0f773bb38b\" y=\"244.43297\"/>\n     <use style=\"stroke:#000000;\" x=\"548.379108\" xlink:href=\"#m0f773bb38b\" y=\"212.407765\"/>\n     <use style=\"stroke:#000000;\" x=\"563.907865\" xlink:href=\"#m0f773bb38b\" y=\"203.020858\"/>\n     <use style=\"stroke:#000000;\" x=\"579.436622\" xlink:href=\"#m0f773bb38b\" y=\"184.986496\"/>\n     <use style=\"stroke:#000000;\" x=\"594.965379\" xlink:href=\"#m0f773bb38b\" y=\"102.637024\"/>\n     <use style=\"stroke:#000000;\" x=\"610.494136\" xlink:href=\"#m0f773bb38b\" y=\"80.010542\"/>\n     <use style=\"stroke:#000000;\" x=\"626.022893\" xlink:href=\"#m0f773bb38b\" y=\"71.026734\"/>\n     <use style=\"stroke:#000000;\" x=\"641.551649\" xlink:href=\"#m0f773bb38b\" y=\"115.93034\"/>\n     <use style=\"stroke:#000000;\" x=\"657.080406\" xlink:href=\"#m0f773bb38b\" y=\"211.975413\"/>\n     <use style=\"stroke:#000000;\" x=\"672.609163\" xlink:href=\"#m0f773bb38b\" y=\"247.531135\"/>\n     <use style=\"stroke:#000000;\" x=\"688.13792\" xlink:href=\"#m0f773bb38b\" y=\"281.112985\"/>\n     <use style=\"stroke:#000000;\" x=\"703.666677\" xlink:href=\"#m0f773bb38b\" y=\"273.538246\"/>\n     <use style=\"stroke:#000000;\" x=\"719.195434\" xlink:href=\"#m0f773bb38b\" y=\"239.810319\"/>\n     <use style=\"stroke:#000000;\" x=\"734.724191\" xlink:href=\"#m0f773bb38b\" y=\"83.838277\"/>\n     <use style=\"stroke:#000000;\" x=\"750.252948\" xlink:href=\"#m0f773bb38b\" y=\"114.297061\"/>\n     <use style=\"stroke:#000000;\" x=\"765.781705\" xlink:href=\"#m0f773bb38b\" y=\"96.292552\"/>\n     <use style=\"stroke:#000000;\" x=\"781.310462\" xlink:href=\"#m0f773bb38b\" y=\"134.267635\"/>\n     <use style=\"stroke:#000000;\" x=\"796.839219\" xlink:href=\"#m0f773bb38b\" y=\"115.2826\"/>\n     <use style=\"stroke:#000000;\" x=\"812.367976\" xlink:href=\"#m0f773bb38b\" y=\"234.665415\"/>\n     <use style=\"stroke:#000000;\" x=\"827.896733\" xlink:href=\"#m0f773bb38b\" y=\"237.055419\"/>\n    </g>\n   </g>\n   <g id=\"line2d_16\">\n    <path clip-path=\"url(#p383c8aafdd)\" d=\"M 66.987642 140.735406 \nL 82.516399 141.566826 \nL 98.045156 142.398246 \nL 113.573913 143.229666 \nL 129.10267 144.061086 \nL 144.631427 144.892506 \nL 160.160184 145.723926 \nL 175.688941 146.555346 \nL 191.217698 147.386766 \nL 206.746455 148.218187 \nL 222.275212 149.049607 \nL 237.803969 149.881027 \nL 253.332726 150.712447 \nL 268.861482 151.543867 \nL 284.390239 152.375287 \nL 299.918996 153.206707 \nL 315.447753 154.038127 \nL 330.97651 154.869547 \nL 346.505267 155.700967 \nL 362.034024 156.532387 \nL 377.562781 157.363807 \nL 393.091538 158.195228 \nL 408.620295 159.026648 \nL 424.149052 159.858068 \nL 439.677809 160.689488 \nL 455.206566 161.520908 \nL 470.735323 162.352328 \nL 486.26408 163.183748 \nL 501.792837 164.015168 \nL 517.321594 164.846588 \nL 532.850351 165.678008 \nL 548.379108 166.509428 \nL 563.907865 167.340849 \nL 579.436622 168.172269 \nL 594.965379 169.003689 \nL 610.494136 169.835109 \nL 626.022893 170.666529 \nL 641.551649 171.497949 \nL 657.080406 172.329369 \nL 672.609163 173.160789 \nL 688.13792 173.992209 \nL 703.666677 174.823629 \nL 719.195434 175.655049 \nL 734.724191 176.486469 \nL 750.252948 177.31789 \nL 765.781705 178.14931 \nL 781.310462 178.98073 \nL 796.839219 179.81215 \nL 812.367976 180.64357 \nL 827.896733 181.47499 \n\" style=\"fill:none;stroke:#1f77b4;stroke-linecap:square;stroke-width:1.5;\"/>\n   </g>\n   <g id=\"line2d_17\">\n    <path clip-path=\"url(#p383c8aafdd)\" d=\"M 66.987642 130.853793 \nL 82.516399 132.895207 \nL 98.045156 134.886205 \nL 113.573913 136.826786 \nL 129.10267 138.716951 \nL 144.631427 140.556699 \nL 160.160184 142.346031 \nL 175.688941 144.084947 \nL 191.217698 145.773446 \nL 206.746455 147.411528 \nL 222.275212 148.999195 \nL 237.803969 150.536444 \nL 253.332726 152.023278 \nL 268.861482 153.459695 \nL 284.390239 154.845695 \nL 299.918996 156.181279 \nL 315.447753 157.466447 \nL 330.97651 158.701198 \nL 346.505267 159.885533 \nL 362.034024 161.019452 \nL 377.562781 162.102953 \nL 393.091538 163.136039 \nL 408.620295 164.118708 \nL 424.149052 165.050961 \nL 439.677809 165.932797 \nL 455.206566 166.764217 \nL 470.735323 167.54522 \nL 486.26408 168.275807 \nL 501.792837 168.955978 \nL 517.321594 169.585732 \nL 532.850351 170.165069 \nL 548.379108 170.693991 \nL 563.907865 171.172495 \nL 579.436622 171.600584 \nL 594.965379 171.978256 \nL 610.494136 172.305511 \nL 626.022893 172.58235 \nL 641.551649 172.808773 \nL 657.080406 172.984779 \nL 672.609163 173.110369 \nL 688.13792 173.185543 \nL 703.666677 173.210299 \nL 719.195434 173.18464 \nL 734.724191 173.108564 \nL 750.252948 172.982072 \nL 765.781705 172.805163 \nL 781.310462 172.577838 \nL 796.839219 172.300096 \nL 812.367976 171.971938 \nL 827.896733 171.593364 \n\" style=\"fill:none;stroke:#ff7f0e;stroke-linecap:square;stroke-width:1.5;\"/>\n   </g>\n   <g id=\"line2d_18\">\n    <path clip-path=\"url(#p383c8aafdd)\" d=\"M 66.987642 223.328971 \nL 82.516399 173.008168 \nL 98.045156 119.620615 \nL 113.573913 82.162532 \nL 129.10267 73.962159 \nL 144.631427 97.937331 \nL 160.160184 145.557265 \nL 175.688941 199.877958 \nL 191.217698 241.57116 \nL 206.746455 255.801703 \nL 222.275212 237.506113 \nL 237.803969 193.194279 \nL 253.332726 138.633124 \nL 268.861482 93.236458 \nL 284.390239 73.157205 \nL 299.918996 85.539915 \nL 315.447753 125.978602 \nL 330.97651 180.084478 \nL 346.505267 228.605728 \nL 362.034024 254.277647 \nL 377.562781 247.965718 \nL 393.091538 211.915835 \nL 408.620295 158.955175 \nL 424.149052 107.928064 \nL 439.677809 76.990838 \nL 455.206566 77.1515 \nL 470.735323 108.352884 \nL 486.26408 159.492995 \nL 501.792837 212.375288 \nL 517.321594 248.183324 \nL 532.850351 254.175977 \nL 548.379108 228.220959 \nL 563.907865 179.553516 \nL 579.436622 125.490374 \nL 594.965379 85.26814 \nL 610.494136 73.198586 \nL 626.022893 93.57627 \nL 641.551649 139.150457 \nL 657.080406 193.705057 \nL 672.609163 237.828592 \nL 688.13792 255.821139 \nL 703.666677 241.280637 \nL 719.195434 199.38085 \nL 734.724191 145.030452 \nL 750.252948 97.568262 \nL 765.781705 73.882154 \nL 781.310462 82.400059 \nL 796.839219 120.091158 \nL 812.367976 173.5443 \nL 827.896733 223.739926 \n\" style=\"fill:none;stroke:#2ca02c;stroke-linecap:square;stroke-width:1.5;\"/>\n   </g>\n   <g id=\"patch_3\">\n    <path d=\"M 28.942188 333.36 \nL 28.942188 7.2 \n\" style=\"fill:none;stroke:#000000;stroke-linecap:square;stroke-linejoin:miter;stroke-width:0.8;\"/>\n   </g>\n   <g id=\"patch_4\">\n    <path d=\"M 865.942188 333.36 \nL 865.942188 7.2 \n\" style=\"fill:none;stroke:#000000;stroke-linecap:square;stroke-linejoin:miter;stroke-width:0.8;\"/>\n   </g>\n   <g id=\"patch_5\">\n    <path d=\"M 28.942188 333.36 \nL 865.942188 333.36 \n\" style=\"fill:none;stroke:#000000;stroke-linecap:square;stroke-linejoin:miter;stroke-width:0.8;\"/>\n   </g>\n   <g id=\"patch_6\">\n    <path d=\"M 28.942188 7.2 \nL 865.942188 7.2 \n\" style=\"fill:none;stroke:#000000;stroke-linecap:square;stroke-linejoin:miter;stroke-width:0.8;\"/>\n   </g>\n   <g id=\"legend_1\">\n    <g id=\"patch_7\">\n     <path d=\"M 35.942188 328.36 \nL 132.501563 328.36 \nQ 134.501563 328.36 134.501563 326.36 \nL 134.501563 268.6475 \nQ 134.501563 266.6475 132.501563 266.6475 \nL 35.942188 266.6475 \nQ 33.942188 266.6475 33.942188 268.6475 \nL 33.942188 326.36 \nQ 33.942188 328.36 35.942188 328.36 \nz\n\" style=\"fill:#ffffff;opacity:0.8;stroke:#cccccc;stroke-linejoin:miter;\"/>\n    </g>\n    <g id=\"line2d_19\"/>\n    <g id=\"line2d_20\">\n     <g>\n      <use style=\"stroke:#000000;\" x=\"47.942188\" xlink:href=\"#m0f773bb38b\" y=\"274.745938\"/>\n     </g>\n    </g>\n    <g id=\"text_15\">\n     <!-- Data -->\n     <g transform=\"translate(65.942188 278.245938)scale(0.1 -0.1)\">\n      <defs>\n       <path d=\"M 1259 4147 \nL 1259 519 \nL 2022 519 \nQ 2988 519 3436 956 \nQ 3884 1394 3884 2338 \nQ 3884 3275 3436 3711 \nQ 2988 4147 2022 4147 \nL 1259 4147 \nz\nM 628 4666 \nL 1925 4666 \nQ 3281 4666 3915 4102 \nQ 4550 3538 4550 2338 \nQ 4550 1131 3912 565 \nQ 3275 0 1925 0 \nL 628 0 \nL 628 4666 \nz\n\" id=\"DejaVuSans-44\" transform=\"scale(0.015625)\"/>\n       <path d=\"M 2194 1759 \nQ 1497 1759 1228 1600 \nQ 959 1441 959 1056 \nQ 959 750 1161 570 \nQ 1363 391 1709 391 \nQ 2188 391 2477 730 \nQ 2766 1069 2766 1631 \nL 2766 1759 \nL 2194 1759 \nz\nM 3341 1997 \nL 3341 0 \nL 2766 0 \nL 2766 531 \nQ 2569 213 2275 61 \nQ 1981 -91 1556 -91 \nQ 1019 -91 701 211 \nQ 384 513 384 1019 \nQ 384 1609 779 1909 \nQ 1175 2209 1959 2209 \nL 2766 2209 \nL 2766 2266 \nQ 2766 2663 2505 2880 \nQ 2244 3097 1772 3097 \nQ 1472 3097 1187 3025 \nQ 903 2953 641 2809 \nL 641 3341 \nQ 956 3463 1253 3523 \nQ 1550 3584 1831 3584 \nQ 2591 3584 2966 3190 \nQ 3341 2797 3341 1997 \nz\n\" id=\"DejaVuSans-61\" transform=\"scale(0.015625)\"/>\n       <path d=\"M 1172 4494 \nL 1172 3500 \nL 2356 3500 \nL 2356 3053 \nL 1172 3053 \nL 1172 1153 \nQ 1172 725 1289 603 \nQ 1406 481 1766 481 \nL 2356 481 \nL 2356 0 \nL 1766 0 \nQ 1100 0 847 248 \nQ 594 497 594 1153 \nL 594 3053 \nL 172 3053 \nL 172 3500 \nL 594 3500 \nL 594 4494 \nL 1172 4494 \nz\n\" id=\"DejaVuSans-74\" transform=\"scale(0.015625)\"/>\n      </defs>\n      <use xlink:href=\"#DejaVuSans-44\"/>\n      <use x=\"77.001953\" xlink:href=\"#DejaVuSans-61\"/>\n      <use x=\"138.28125\" xlink:href=\"#DejaVuSans-74\"/>\n      <use x=\"177.490234\" xlink:href=\"#DejaVuSans-61\"/>\n     </g>\n    </g>\n    <g id=\"line2d_21\">\n     <path d=\"M 37.942188 289.424062 \nL 57.942188 289.424062 \n\" style=\"fill:none;stroke:#1f77b4;stroke-linecap:square;stroke-width:1.5;\"/>\n    </g>\n    <g id=\"line2d_22\"/>\n    <g id=\"text_16\">\n     <!-- Linear fit -->\n     <g transform=\"translate(65.942188 292.924062)scale(0.1 -0.1)\">\n      <defs>\n       <path d=\"M 628 4666 \nL 1259 4666 \nL 1259 531 \nL 3531 531 \nL 3531 0 \nL 628 0 \nL 628 4666 \nz\n\" id=\"DejaVuSans-4c\" transform=\"scale(0.015625)\"/>\n       <path d=\"M 603 3500 \nL 1178 3500 \nL 1178 0 \nL 603 0 \nL 603 3500 \nz\nM 603 4863 \nL 1178 4863 \nL 1178 4134 \nL 603 4134 \nL 603 4863 \nz\n\" id=\"DejaVuSans-69\" transform=\"scale(0.015625)\"/>\n       <path d=\"M 3513 2113 \nL 3513 0 \nL 2938 0 \nL 2938 2094 \nQ 2938 2591 2744 2837 \nQ 2550 3084 2163 3084 \nQ 1697 3084 1428 2787 \nQ 1159 2491 1159 1978 \nL 1159 0 \nL 581 0 \nL 581 3500 \nL 1159 3500 \nL 1159 2956 \nQ 1366 3272 1645 3428 \nQ 1925 3584 2291 3584 \nQ 2894 3584 3203 3211 \nQ 3513 2838 3513 2113 \nz\n\" id=\"DejaVuSans-6e\" transform=\"scale(0.015625)\"/>\n       <path d=\"M 3597 1894 \nL 3597 1613 \nL 953 1613 \nQ 991 1019 1311 708 \nQ 1631 397 2203 397 \nQ 2534 397 2845 478 \nQ 3156 559 3463 722 \nL 3463 178 \nQ 3153 47 2828 -22 \nQ 2503 -91 2169 -91 \nQ 1331 -91 842 396 \nQ 353 884 353 1716 \nQ 353 2575 817 3079 \nQ 1281 3584 2069 3584 \nQ 2775 3584 3186 3129 \nQ 3597 2675 3597 1894 \nz\nM 3022 2063 \nQ 3016 2534 2758 2815 \nQ 2500 3097 2075 3097 \nQ 1594 3097 1305 2825 \nQ 1016 2553 972 2059 \nL 3022 2063 \nz\n\" id=\"DejaVuSans-65\" transform=\"scale(0.015625)\"/>\n       <path d=\"M 2631 2963 \nQ 2534 3019 2420 3045 \nQ 2306 3072 2169 3072 \nQ 1681 3072 1420 2755 \nQ 1159 2438 1159 1844 \nL 1159 0 \nL 581 0 \nL 581 3500 \nL 1159 3500 \nL 1159 2956 \nQ 1341 3275 1631 3429 \nQ 1922 3584 2338 3584 \nQ 2397 3584 2469 3576 \nQ 2541 3569 2628 3553 \nL 2631 2963 \nz\n\" id=\"DejaVuSans-72\" transform=\"scale(0.015625)\"/>\n       <path id=\"DejaVuSans-20\" transform=\"scale(0.015625)\"/>\n       <path d=\"M 2375 4863 \nL 2375 4384 \nL 1825 4384 \nQ 1516 4384 1395 4259 \nQ 1275 4134 1275 3809 \nL 1275 3500 \nL 2222 3500 \nL 2222 3053 \nL 1275 3053 \nL 1275 0 \nL 697 0 \nL 697 3053 \nL 147 3053 \nL 147 3500 \nL 697 3500 \nL 697 3744 \nQ 697 4328 969 4595 \nQ 1241 4863 1831 4863 \nL 2375 4863 \nz\n\" id=\"DejaVuSans-66\" transform=\"scale(0.015625)\"/>\n      </defs>\n      <use xlink:href=\"#DejaVuSans-4c\"/>\n      <use x=\"55.712891\" xlink:href=\"#DejaVuSans-69\"/>\n      <use x=\"83.496094\" xlink:href=\"#DejaVuSans-6e\"/>\n      <use x=\"146.875\" xlink:href=\"#DejaVuSans-65\"/>\n      <use x=\"208.398438\" xlink:href=\"#DejaVuSans-61\"/>\n      <use x=\"269.677734\" xlink:href=\"#DejaVuSans-72\"/>\n      <use x=\"310.791016\" xlink:href=\"#DejaVuSans-20\"/>\n      <use x=\"342.578125\" xlink:href=\"#DejaVuSans-66\"/>\n      <use x=\"377.783203\" xlink:href=\"#DejaVuSans-69\"/>\n      <use x=\"405.566406\" xlink:href=\"#DejaVuSans-74\"/>\n     </g>\n    </g>\n    <g id=\"line2d_23\">\n     <path d=\"M 37.942188 304.102188 \nL 57.942188 304.102188 \n\" style=\"fill:none;stroke:#ff7f0e;stroke-linecap:square;stroke-width:1.5;\"/>\n    </g>\n    <g id=\"line2d_24\"/>\n    <g id=\"text_17\">\n     <!-- Quadratic fit -->\n     <g transform=\"translate(65.942188 307.602188)scale(0.1 -0.1)\">\n      <defs>\n       <path d=\"M 2522 4238 \nQ 1834 4238 1429 3725 \nQ 1025 3213 1025 2328 \nQ 1025 1447 1429 934 \nQ 1834 422 2522 422 \nQ 3209 422 3611 934 \nQ 4013 1447 4013 2328 \nQ 4013 3213 3611 3725 \nQ 3209 4238 2522 4238 \nz\nM 3406 84 \nL 4238 -825 \nL 3475 -825 \nL 2784 -78 \nQ 2681 -84 2626 -87 \nQ 2572 -91 2522 -91 \nQ 1538 -91 948 567 \nQ 359 1225 359 2328 \nQ 359 3434 948 4092 \nQ 1538 4750 2522 4750 \nQ 3503 4750 4090 4092 \nQ 4678 3434 4678 2328 \nQ 4678 1516 4351 937 \nQ 4025 359 3406 84 \nz\n\" id=\"DejaVuSans-51\" transform=\"scale(0.015625)\"/>\n       <path d=\"M 544 1381 \nL 544 3500 \nL 1119 3500 \nL 1119 1403 \nQ 1119 906 1312 657 \nQ 1506 409 1894 409 \nQ 2359 409 2629 706 \nQ 2900 1003 2900 1516 \nL 2900 3500 \nL 3475 3500 \nL 3475 0 \nL 2900 0 \nL 2900 538 \nQ 2691 219 2414 64 \nQ 2138 -91 1772 -91 \nQ 1169 -91 856 284 \nQ 544 659 544 1381 \nz\nM 1991 3584 \nL 1991 3584 \nz\n\" id=\"DejaVuSans-75\" transform=\"scale(0.015625)\"/>\n       <path d=\"M 2906 2969 \nL 2906 4863 \nL 3481 4863 \nL 3481 0 \nL 2906 0 \nL 2906 525 \nQ 2725 213 2448 61 \nQ 2172 -91 1784 -91 \nQ 1150 -91 751 415 \nQ 353 922 353 1747 \nQ 353 2572 751 3078 \nQ 1150 3584 1784 3584 \nQ 2172 3584 2448 3432 \nQ 2725 3281 2906 2969 \nz\nM 947 1747 \nQ 947 1113 1208 752 \nQ 1469 391 1925 391 \nQ 2381 391 2643 752 \nQ 2906 1113 2906 1747 \nQ 2906 2381 2643 2742 \nQ 2381 3103 1925 3103 \nQ 1469 3103 1208 2742 \nQ 947 2381 947 1747 \nz\n\" id=\"DejaVuSans-64\" transform=\"scale(0.015625)\"/>\n       <path d=\"M 3122 3366 \nL 3122 2828 \nQ 2878 2963 2633 3030 \nQ 2388 3097 2138 3097 \nQ 1578 3097 1268 2742 \nQ 959 2388 959 1747 \nQ 959 1106 1268 751 \nQ 1578 397 2138 397 \nQ 2388 397 2633 464 \nQ 2878 531 3122 666 \nL 3122 134 \nQ 2881 22 2623 -34 \nQ 2366 -91 2075 -91 \nQ 1284 -91 818 406 \nQ 353 903 353 1747 \nQ 353 2603 823 3093 \nQ 1294 3584 2113 3584 \nQ 2378 3584 2631 3529 \nQ 2884 3475 3122 3366 \nz\n\" id=\"DejaVuSans-63\" transform=\"scale(0.015625)\"/>\n      </defs>\n      <use xlink:href=\"#DejaVuSans-51\"/>\n      <use x=\"78.710938\" xlink:href=\"#DejaVuSans-75\"/>\n      <use x=\"142.089844\" xlink:href=\"#DejaVuSans-61\"/>\n      <use x=\"203.369141\" xlink:href=\"#DejaVuSans-64\"/>\n      <use x=\"266.845703\" xlink:href=\"#DejaVuSans-72\"/>\n      <use x=\"307.958984\" xlink:href=\"#DejaVuSans-61\"/>\n      <use x=\"369.238281\" xlink:href=\"#DejaVuSans-74\"/>\n      <use x=\"408.447266\" xlink:href=\"#DejaVuSans-69\"/>\n      <use x=\"436.230469\" xlink:href=\"#DejaVuSans-63\"/>\n      <use x=\"491.210938\" xlink:href=\"#DejaVuSans-20\"/>\n      <use x=\"522.998047\" xlink:href=\"#DejaVuSans-66\"/>\n      <use x=\"558.203125\" xlink:href=\"#DejaVuSans-69\"/>\n      <use x=\"585.986328\" xlink:href=\"#DejaVuSans-74\"/>\n     </g>\n    </g>\n    <g id=\"line2d_25\">\n     <path d=\"M 37.942188 318.780313 \nL 57.942188 318.780313 \n\" style=\"fill:none;stroke:#2ca02c;stroke-linecap:square;stroke-width:1.5;\"/>\n    </g>\n    <g id=\"line2d_26\"/>\n    <g id=\"text_18\">\n     <!-- Sinusoidal fit -->\n     <g transform=\"translate(65.942188 322.280313)scale(0.1 -0.1)\">\n      <defs>\n       <path d=\"M 3425 4513 \nL 3425 3897 \nQ 3066 4069 2747 4153 \nQ 2428 4238 2131 4238 \nQ 1616 4238 1336 4038 \nQ 1056 3838 1056 3469 \nQ 1056 3159 1242 3001 \nQ 1428 2844 1947 2747 \nL 2328 2669 \nQ 3034 2534 3370 2195 \nQ 3706 1856 3706 1288 \nQ 3706 609 3251 259 \nQ 2797 -91 1919 -91 \nQ 1588 -91 1214 -16 \nQ 841 59 441 206 \nL 441 856 \nQ 825 641 1194 531 \nQ 1563 422 1919 422 \nQ 2459 422 2753 634 \nQ 3047 847 3047 1241 \nQ 3047 1584 2836 1778 \nQ 2625 1972 2144 2069 \nL 1759 2144 \nQ 1053 2284 737 2584 \nQ 422 2884 422 3419 \nQ 422 4038 858 4394 \nQ 1294 4750 2059 4750 \nQ 2388 4750 2728 4690 \nQ 3069 4631 3425 4513 \nz\n\" id=\"DejaVuSans-53\" transform=\"scale(0.015625)\"/>\n       <path d=\"M 2834 3397 \nL 2834 2853 \nQ 2591 2978 2328 3040 \nQ 2066 3103 1784 3103 \nQ 1356 3103 1142 2972 \nQ 928 2841 928 2578 \nQ 928 2378 1081 2264 \nQ 1234 2150 1697 2047 \nL 1894 2003 \nQ 2506 1872 2764 1633 \nQ 3022 1394 3022 966 \nQ 3022 478 2636 193 \nQ 2250 -91 1575 -91 \nQ 1294 -91 989 -36 \nQ 684 19 347 128 \nL 347 722 \nQ 666 556 975 473 \nQ 1284 391 1588 391 \nQ 1994 391 2212 530 \nQ 2431 669 2431 922 \nQ 2431 1156 2273 1281 \nQ 2116 1406 1581 1522 \nL 1381 1569 \nQ 847 1681 609 1914 \nQ 372 2147 372 2553 \nQ 372 3047 722 3315 \nQ 1072 3584 1716 3584 \nQ 2034 3584 2315 3537 \nQ 2597 3491 2834 3397 \nz\n\" id=\"DejaVuSans-73\" transform=\"scale(0.015625)\"/>\n       <path d=\"M 1959 3097 \nQ 1497 3097 1228 2736 \nQ 959 2375 959 1747 \nQ 959 1119 1226 758 \nQ 1494 397 1959 397 \nQ 2419 397 2687 759 \nQ 2956 1122 2956 1747 \nQ 2956 2369 2687 2733 \nQ 2419 3097 1959 3097 \nz\nM 1959 3584 \nQ 2709 3584 3137 3096 \nQ 3566 2609 3566 1747 \nQ 3566 888 3137 398 \nQ 2709 -91 1959 -91 \nQ 1206 -91 779 398 \nQ 353 888 353 1747 \nQ 353 2609 779 3096 \nQ 1206 3584 1959 3584 \nz\n\" id=\"DejaVuSans-6f\" transform=\"scale(0.015625)\"/>\n       <path d=\"M 603 4863 \nL 1178 4863 \nL 1178 0 \nL 603 0 \nL 603 4863 \nz\n\" id=\"DejaVuSans-6c\" transform=\"scale(0.015625)\"/>\n      </defs>\n      <use xlink:href=\"#DejaVuSans-53\"/>\n      <use x=\"63.476562\" xlink:href=\"#DejaVuSans-69\"/>\n      <use x=\"91.259766\" xlink:href=\"#DejaVuSans-6e\"/>\n      <use x=\"154.638672\" xlink:href=\"#DejaVuSans-75\"/>\n      <use x=\"218.017578\" xlink:href=\"#DejaVuSans-73\"/>\n      <use x=\"270.117188\" xlink:href=\"#DejaVuSans-6f\"/>\n      <use x=\"331.298828\" xlink:href=\"#DejaVuSans-69\"/>\n      <use x=\"359.082031\" xlink:href=\"#DejaVuSans-64\"/>\n      <use x=\"422.558594\" xlink:href=\"#DejaVuSans-61\"/>\n      <use x=\"483.837891\" xlink:href=\"#DejaVuSans-6c\"/>\n      <use x=\"511.621094\" xlink:href=\"#DejaVuSans-20\"/>\n      <use x=\"543.408203\" xlink:href=\"#DejaVuSans-66\"/>\n      <use x=\"578.613281\" xlink:href=\"#DejaVuSans-69\"/>\n      <use x=\"606.396484\" xlink:href=\"#DejaVuSans-74\"/>\n     </g>\n    </g>\n   </g>\n  </g>\n </g>\n <defs>\n  <clipPath id=\"p383c8aafdd\">\n   <rect height=\"326.16\" width=\"837\" x=\"28.942188\" y=\"7.2\"/>\n  </clipPath>\n </defs>\n</svg>\n",
      "image/png": "[encoded data removed]"
     },
     "metadata": {
      "needs_background": "light"
     }
    }
   ],
   "source": [
    "import matplotlib.pyplot as mplt \n",
    "\n",
    "# plot data\n",
    "mplt.figure(figsize=(15,6))\n",
    "mplt.plot(X,Y,marker = 'o', color = 'k', linestyle = 'None',label = 'Data')\n",
    "\n",
    "# plot linear fit\n",
    "mplt.plot(X,linear(X, params_lin[0], params_lin[1]),label = 'Linear fit')\n",
    "\n",
    "# plot quadratic fit\n",
    "mplt.plot(X,quadratic(X, params_quad[0], params_quad[1], params_quad[2]),label = 'Quadratic fit')\n",
    "\n",
    "# plot sinusoidal fit\n",
    "mplt.plot(X,sinusoidal(X, params_sinus[0], params_sinus[1], params_sinus[2], params_sinus[3]),label = 'Sinusoidal fit')\n",
    "\n",
    "mplt.legend()"
   ]
  },
  {
   "source": [
    "--- \n",
    "## Exercice # 3 - Array/Matrix operations\n",
    "\n",
    "&rarr; Create an array A with 4 x 4 elements, and shuffle its values."
   ],
   "cell_type": "markdown",
   "metadata": {}
  },
  {
   "cell_type": "code",
   "execution_count": 22,
   "metadata": {},
   "outputs": [
    {
     "output_type": "stream",
     "name": "stdout",
     "text": [
      "[[ 9.8125   72.90625  19.671875 72.90625 ]\n [19.671875  8.296875 55.171875  8.296875]\n [55.171875  0.        9.8125    0.      ]\n [ 9.8125   72.90625   0.        0.      ]] \n\n[ 9.8125   72.90625  19.671875 72.90625  19.671875  8.296875 55.171875\n  8.296875 55.171875  0.        9.8125    0.        9.8125   72.90625\n  0.        0.      ] \n\n[[ 8.296875  9.8125   19.671875 55.171875]\n [ 0.       55.171875 72.90625   0.      ]\n [ 8.296875 72.90625  19.671875  9.8125  ]\n [ 0.        9.8125    0.       72.90625 ]] \n\n"
     ]
    }
   ],
   "source": [
    "# create A\n",
    "A = np.empty((4,4))\n",
    "print(A,'\\n')\n",
    "\n",
    "# flatten A\n",
    "A = A.flatten()\n",
    "print (A,'\\n')\n",
    "\n",
    "# shuffle A\n",
    "np.random.shuffle (A)\n",
    "\n",
    "# reshape A\n",
    "A = A.reshape(4,4)\n",
    "print (A,'\\n')"
   ]
  },
  {
   "source": [
    "&rarr; Create an array B with 2 x 4 elements, with all values set to one."
   ],
   "cell_type": "markdown",
   "metadata": {}
  },
  {
   "cell_type": "code",
   "execution_count": 23,
   "metadata": {},
   "outputs": [
    {
     "output_type": "stream",
     "name": "stdout",
     "text": [
      "[[1. 1. 1. 1.]\n [1. 1. 1. 1.]]\n"
     ]
    }
   ],
   "source": [
    "# create B\n",
    "B = np.ones((2,4))\n",
    "print(B)"
   ]
  },
  {
   "source": [
    "\n",
    "&rarr; Create an array C with 4 x 2 elements, with arbitrary values and transpose it."
   ],
   "cell_type": "markdown",
   "metadata": {}
  },
  {
   "cell_type": "code",
   "execution_count": 24,
   "metadata": {},
   "outputs": [
    {
     "output_type": "stream",
     "name": "stdout",
     "text": [
      "[[0 1]\n [2 3]\n [4 5]\n [6 7]] \n\n[[0 2 4 6]\n [1 3 5 7]] \n\n"
     ]
    }
   ],
   "source": [
    "# create C\n",
    "C = np.arange(8).reshape(4,2)\n",
    "print(C,'\\n')\n",
    "\n",
    "# transpose C\n",
    "print(C.T,'\\n')"
   ]
  },
  {
   "source": [
    "\n",
    "\n",
    "&rarr; Concatenate array B with the transposed of C into array D."
   ],
   "cell_type": "markdown",
   "metadata": {}
  },
  {
   "cell_type": "code",
   "execution_count": 25,
   "metadata": {},
   "outputs": [
    {
     "output_type": "stream",
     "name": "stdout",
     "text": [
      "[[1. 1. 1. 1.]\n [1. 1. 1. 1.]\n [0. 2. 4. 6.]\n [1. 3. 5. 7.]]\n"
     ]
    }
   ],
   "source": [
    "# create D\n",
    "D = np.concatenate((B,C.T))\n",
    "print(D)"
   ]
  },
  {
   "source": [
    "\n",
    "\n",
    "&rarr; Compute the cross-product of array D with array A and store it into array E."
   ],
   "cell_type": "markdown",
   "metadata": {}
  },
  {
   "cell_type": "code",
   "execution_count": 26,
   "metadata": {},
   "outputs": [
    {
     "output_type": "error",
     "ename": "ValueError",
     "evalue": "incompatible dimensions for cross product\n(dimension must be 2 or 3)",
     "traceback": [
      "\u001b[0;31m---------------------------------------------------------------------------\u001b[0m",
      "\u001b[0;31mValueError\u001b[0m                                Traceback (most recent call last)",
      "\u001b[0;32m<ipython-input-26-1444e4a89fed>\u001b[0m in \u001b[0;36m<module>\u001b[0;34m\u001b[0m\n\u001b[1;32m      1\u001b[0m \u001b[0;31m# create E\u001b[0m\u001b[0;34m\u001b[0m\u001b[0;34m\u001b[0m\u001b[0;34m\u001b[0m\u001b[0m\n\u001b[0;32m----> 2\u001b[0;31m \u001b[0mE\u001b[0m \u001b[0;34m=\u001b[0m \u001b[0mnp\u001b[0m\u001b[0;34m.\u001b[0m\u001b[0mcross\u001b[0m\u001b[0;34m(\u001b[0m\u001b[0mD\u001b[0m\u001b[0;34m,\u001b[0m\u001b[0mA\u001b[0m\u001b[0;34m)\u001b[0m\u001b[0;34m\u001b[0m\u001b[0;34m\u001b[0m\u001b[0m\n\u001b[0m\u001b[1;32m      3\u001b[0m \u001b[0mprint\u001b[0m\u001b[0;34m(\u001b[0m\u001b[0mE\u001b[0m\u001b[0;34m)\u001b[0m\u001b[0;34m\u001b[0m\u001b[0;34m\u001b[0m\u001b[0m\n",
      "\u001b[0;32m<__array_function__ internals>\u001b[0m in \u001b[0;36mcross\u001b[0;34m(*args, **kwargs)\u001b[0m\n",
      "\u001b[0;32m~/.local/lib/python3.8/site-packages/numpy/core/numeric.py\u001b[0m in \u001b[0;36mcross\u001b[0;34m(a, b, axisa, axisb, axisc, axis)\u001b[0m\n\u001b[1;32m   1611\u001b[0m            \"(dimension must be 2 or 3)\")\n\u001b[1;32m   1612\u001b[0m     \u001b[0;32mif\u001b[0m \u001b[0ma\u001b[0m\u001b[0;34m.\u001b[0m\u001b[0mshape\u001b[0m\u001b[0;34m[\u001b[0m\u001b[0;34m-\u001b[0m\u001b[0;36m1\u001b[0m\u001b[0;34m]\u001b[0m \u001b[0;32mnot\u001b[0m \u001b[0;32min\u001b[0m \u001b[0;34m(\u001b[0m\u001b[0;36m2\u001b[0m\u001b[0;34m,\u001b[0m \u001b[0;36m3\u001b[0m\u001b[0;34m)\u001b[0m \u001b[0;32mor\u001b[0m \u001b[0mb\u001b[0m\u001b[0;34m.\u001b[0m\u001b[0mshape\u001b[0m\u001b[0;34m[\u001b[0m\u001b[0;34m-\u001b[0m\u001b[0;36m1\u001b[0m\u001b[0;34m]\u001b[0m \u001b[0;32mnot\u001b[0m \u001b[0;32min\u001b[0m \u001b[0;34m(\u001b[0m\u001b[0;36m2\u001b[0m\u001b[0;34m,\u001b[0m \u001b[0;36m3\u001b[0m\u001b[0;34m)\u001b[0m\u001b[0;34m:\u001b[0m\u001b[0;34m\u001b[0m\u001b[0;34m\u001b[0m\u001b[0m\n\u001b[0;32m-> 1613\u001b[0;31m         \u001b[0;32mraise\u001b[0m \u001b[0mValueError\u001b[0m\u001b[0;34m(\u001b[0m\u001b[0mmsg\u001b[0m\u001b[0;34m)\u001b[0m\u001b[0;34m\u001b[0m\u001b[0;34m\u001b[0m\u001b[0m\n\u001b[0m\u001b[1;32m   1614\u001b[0m \u001b[0;34m\u001b[0m\u001b[0m\n\u001b[1;32m   1615\u001b[0m     \u001b[0;31m# Create the output array\u001b[0m\u001b[0;34m\u001b[0m\u001b[0;34m\u001b[0m\u001b[0;34m\u001b[0m\u001b[0m\n",
      "\u001b[0;31mValueError\u001b[0m: incompatible dimensions for cross product\n(dimension must be 2 or 3)"
     ]
    }
   ],
   "source": [
    "# create E\n",
    "E = np.cross(D,A)\n",
    "print(E)"
   ]
  },
  {
   "source": [
    "**This is not possible!**\n",
    "\n",
    "As per the definition of np.cross:\n",
    "\n",
    "```\n",
    "The cross product of a and b in R^3 is a vector perpendicular to both a and b. \n",
    "If a and b are arrays of vectors, the vectors are defined by the last axis of \n",
    "a and b by default, and these axes can have dimensions 2 or 3. Where the \n",
    "dimension of either a or b is 2, the third component of the input vector is \n",
    "assumed to be zero and the cross product calculated accordingly. In cases \n",
    "where both input vectors have dimension 2, the z-component of the cross product is returned.\n",
    "```\n",
    "Thus, we cannot compute the cross product of D and A\n"
   ],
   "cell_type": "markdown",
   "metadata": {}
  },
  {
   "source": [
    "&rarr; Calculate the median, mean and standard deviation values of array E\n",
    "\n",
    "Since E cannot be computed we will use D instead:"
   ],
   "cell_type": "markdown",
   "metadata": {}
  },
  {
   "source": [
    "# median\n",
    "print('{:24s} = {:>6.3f}'.format('np.nanmedian(D)',np.nanmedian(D)))\n",
    "# mean\n",
    "print('{:24s} = {:>6.3f}'.format('np.nanmean(D)',np.nanmean(D)))\n",
    "# standart deviation\n",
    "print('{:24s} = {:>6.3f}'.format('np.nanstd(D)',np.nanstd(D)))"
   ],
   "cell_type": "code",
   "metadata": {},
   "execution_count": 27,
   "outputs": [
    {
     "output_type": "stream",
     "name": "stdout",
     "text": [
      "np.nanmedian(D)          =  1.000\nnp.nanmean(D)            =  2.250\nnp.nanstd(D)             =  2.046\n"
     ]
    }
   ]
  },
  {
   "source": [
    "---\n",
    "## Exercice #4 - Median Filter\n",
    "\n",
    "&rarr; Using the Numpy/Scipy/Astropy libraries, replicate the Median Filter exercice from the first practical class of the course\n",
    "\n",
    "&rarr; Compare the runtime of both methods (base Python vs Numpy/Scipy/Astropy libraries)\n",
    "\n",
    "TIP: \n",
    "to compute the runtime for each method you can use:\n",
    "\n",
    "```\n",
    "from time import process_time       # for timing\n",
    "\n",
    "start = process_time()\n",
    "\n",
    "DO SOMETHING\n",
    "\n",
    "end = process_time()\n",
    "\n",
    "runtime = end_py - start_py\n",
    "```\n",
    "\n"
   ],
   "cell_type": "markdown",
   "metadata": {}
  },
  {
   "cell_type": "code",
   "execution_count": 28,
   "metadata": {},
   "outputs": [
    {
     "output_type": "stream",
     "name": "stdout",
     "text": [
      "run time for median filter using base Python: 1.825s\n"
     ]
    }
   ],
   "source": [
    "# using base python:\n",
    "from time import process_time\n",
    "from statistics import median \n",
    "from astropy.io import fits \n",
    "\n",
    "\n",
    "# Function definition\n",
    "def load_data():\n",
    "    with fits.open('../data/spectra.fits') as hdulist:\n",
    "        wavelengths = hdulist[1].data\n",
    "        spectra = hdulist[2].data \n",
    "\n",
    "    return wavelengths, spectra.tolist()\n",
    "\n",
    "def boundary_condition(y_data, index, which, filter_size):\n",
    "    \"\"\"\n",
    "    Applies the selected boundary condition to the y_data \n",
    "\n",
    "    Parameters\n",
    "    ============\n",
    "    y_data : list \n",
    "        The input data \n",
    "    index : int\n",
    "        Index of the leftmost edge of the filter\n",
    "    which : str \n",
    "        Which boundary condition to apply. Options : ['mirror']\n",
    "    filter_size : int\n",
    "        Number of points in the median window\n",
    "\n",
    "    Returns \n",
    "    ===========\n",
    "    new_values : list\n",
    "        Values that expand the input data to be able to apply the filter \n",
    "    \"\"\"\n",
    "    if which == 'mirror':\n",
    "        if index < 0:\n",
    "            return y_data[1 : abs(index)+1]\n",
    "        elif index > len(y_data) - filter_size: \n",
    "            return y_data[-(index + filter_size - len(y_data)+1) : -1 ]\n",
    "\n",
    "def median_filter(y_data, filter_size):\n",
    "    \"\"\"\n",
    "    Calculation of the median filter using a sliding window centered in each point. The filter size must be odd, in order to guarantee that there is \n",
    "    the same number of points being sampled in each side.\n",
    "\n",
    "\n",
    "    Parameters\n",
    "    ============\n",
    "    y_data : list \n",
    "        The input data \n",
    "    filter_size : int \n",
    "        Number of points in the median window\n",
    "\n",
    "    Returns \n",
    "    ===========\n",
    "    filtered_values : list\n",
    "        Computed median filter \n",
    "    \"\"\"\n",
    "\n",
    "    if filter_size % 2 == 0:\n",
    "        raise ValueError(\"Filter size should be odd\")\n",
    "    output = []\n",
    "    data_size = len(y_data)\n",
    "\n",
    "    initial_leftmost_edge = -int(filter_size/2)\n",
    "    \n",
    "    # start_index is the position of the leftmost edge of the filter\n",
    "    for start_index in range(initial_leftmost_edge, data_size + initial_leftmost_edge):\n",
    "        \n",
    "        if start_index < 0:\n",
    "            # the leftmost edge is outside the y_data array\n",
    "            value = median(y_data[0:  filter_size - abs(start_index)] + boundary_condition(y_data, start_index, 'mirror', filter_size=filter_size))\n",
    "        elif start_index > data_size - filter_size:\n",
    "            # the rightmost edge is outside the y_data array\n",
    "            value = median(y_data[start_index:] + boundary_condition(y_data, start_index, 'mirror', filter_size=filter_size))\n",
    "        else:\n",
    "            value = median(y_data[start_index : start_index+filter_size])\n",
    "        output.append(value)\n",
    "\n",
    "    return output\n",
    "\n",
    "def process_data():\n",
    "    wavelengths, spectra = load_data() \n",
    "    for index, order in enumerate(spectra):\n",
    "        continuum_level = median_filter(order, filter_size = 101)\n",
    "\n",
    "# running the code\n",
    "start_basePy = process_time()\n",
    "process_data()\n",
    "end_basePy = process_time()\n",
    "\n",
    "print('run time for median filter using base Python: {:.3f}s'.format(end_basePy - start_basePy))"
   ]
  },
  {
   "cell_type": "code",
   "execution_count": 29,
   "metadata": {
    "tags": []
   },
   "outputs": [
    {
     "output_type": "stream",
     "name": "stdout",
     "text": [
      "run time for median filter using numpy: 0.724s\n"
     ]
    }
   ],
   "source": [
    "# using scientific libraries:\n",
    "from time import process_time,sleep\n",
    "from astropy.io import fits \n",
    "import numpy as np\n",
    "import matplotlib.pyplot as mplt\n",
    "\n",
    "# Function definition\n",
    "def load_data_np():\n",
    "    with fits.open('../data/spectra.fits') as hdulist:\n",
    "        wavelengths = hdulist[1].data\n",
    "        spectra = hdulist[2].data \n",
    "\n",
    "    return wavelengths, spectra\n",
    "\n",
    "def median_filter_np(y_data, filter_size):\n",
    "    \"\"\"\n",
    "    Calculation of the median filter using a sliding window centered in each point. The filter size must be odd, in order to guarantee that there is \n",
    "    the same number of points being sampled in each side.\n",
    "\n",
    "\n",
    "    Parameters\n",
    "    ============\n",
    "    y_data : numpy array \n",
    "        The input data \n",
    "    filter_size : int \n",
    "        Number of points in the median window\n",
    "\n",
    "    Returns \n",
    "    ===========\n",
    "    filtered_values : numpy array \n",
    "        Computed median filter \n",
    "    \"\"\"\n",
    "\n",
    "    if filter_size % 2 == 0:\n",
    "        raise ValueError(\"Filter size should be odd\")\n",
    "    \n",
    "    data_size = np.shape(y_data)[0]\n",
    "    \n",
    "    rolling_slices = np.zeros((data_size,filter_size))\n",
    "\n",
    "    data_with_bounds = np.concatenate((y_data[:int(filter_size/2)][::-1],y_data,y_data[-int(filter_size/2):]))\n",
    "\n",
    "    for index,row in enumerate(rolling_slices):\n",
    "        row[:] = data_with_bounds[index:index + filter_size]\n",
    "\n",
    "    return np.median(rolling_slices,axis = 1)\n",
    "\n",
    "\n",
    "def process_data():\n",
    "    wavelengths, spectra = load_data_np() \n",
    "    continuum_level = np.zeros_like(spectra)\n",
    "\n",
    "    #mplt.figure(figsize = (15,6))         # uncomment line to see plot\n",
    "\n",
    "    start_basePy = process_time()\n",
    "    for index, order in enumerate(spectra):\n",
    "        continuum_level[index] = median_filter_np(order, filter_size = 101)\n",
    "        #mplt.plot(wavelengths[index], spectra[index], color = 'black')         # uncomment line to see plot\n",
    "        #mplt.plot(wavelengths[index], continuum_level[index], color = 'red')         # uncomment line to see plot\n",
    "\n",
    "    end_basePy = process_time()\n",
    "\n",
    "    print('run time for median filter using numpy: {:.3f}s'.format(end_basePy - start_basePy))\n",
    "\n",
    "\n",
    "    #mplt.show()         # uncomment line to see plot\n",
    "\n",
    "\n",
    "# running the code\n",
    "\n",
    "process_data()"
   ]
  }
 ]
}