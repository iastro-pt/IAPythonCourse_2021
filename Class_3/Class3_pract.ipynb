{
 "metadata": {
  "language_info": {
   "codemirror_mode": {
    "name": "ipython",
    "version": 3
   },
   "file_extension": ".py",
   "mimetype": "text/x-python",
   "name": "python",
   "nbconvert_exporter": "python",
   "pygments_lexer": "ipython3",
   "version": "3.8.8"
  },
  "orig_nbformat": 2,
  "kernelspec": {
   "name": "python388jvsc74a57bd04726ecd0e048f2f393fee211ab562a21e10886f96c4bdda65825ec1cbf242e5f",
   "display_name": "Python 3.8.8 64-bit ('py38': conda)"
  }
 },
 "nbformat": 4,
 "nbformat_minor": 2,
 "cells": [
  {
   "source": [
    "---\n",
    "# Python Course - Practical Class 3:\n",
    "# Data Visualization\n",
    "---"
   ],
   "cell_type": "markdown",
   "metadata": {}
  },
  {
   "source": [
    "## Exercice # 1 - Multiplot figure\n",
    "\n",
    "Considering all $mag_V < 10 $ stars can you find within 1 degree of the star Helvetios, create a 2 rows x 2 columns figure.\n",
    "\n",
    "### Requirements\n",
    "#### &rarr; `Top-Left` axis\n",
    "- scatter plot of the selected stars by coordinates, centered on Helvetios\n",
    "- `x-axis` = Right Ascension, shared with Bottow-Right axis\n",
    "- `y-axis` = Declination, shared with Bottow-Right axis\n",
    "\n",
    "#### &rarr; `Top-Right` axis:\n",
    "- bar chart of the selected stars by spectral type\n",
    "- `x-axis` = spectral types\n",
    "- `y-axis` = number of stars by spectral type\n",
    "\n",
    "#### &rarr; `Bottow-Left` axis:\n",
    "- scatter plot of the selected stars, showing their visual magnitude as a function of their paralaxe\n",
    "- best fit second degree polynomial to the scatter plot\n",
    "- `x-axis` = paralaxe\n",
    "- `y-axis` = visual magnitude\n",
    "- show the legend\n",
    "\n",
    "#### &rarr; `Bottow-Right` axis:\n",
    "- image of the sky within 1 degree around Helvetios\n",
    "- `x-axis` = Right Ascension, shared with Top-Left axis\n",
    "- `y-axis` = Declination, shared with Top-Left axis\n",
    "\n",
    "\n",
    "#### &rarr; The labels and titles of each axis should be updated to reflect what they're displaying.\n",
    "\n",
    "\n",
    "### _ Tips _\n",
    "- see exercice `#1` of practical class `#2`\n",
    "- for the `Bottow-Right` axis, you do not have to get the image programmatically\n",
    "\n",
    "\n"
   ],
   "cell_type": "markdown",
   "metadata": {}
  },
  {
   "source": [
    "---\n",
    "## Exercice #2 - Exoplanet numbers\n",
    "\n",
    "Consider all exoplanets listed in the `exoplanet.eu` database. \n",
    "\n",
    "#### &rarr; Do a mass vs period scatter plot of the all exoplanets in the `exoplanet.eu` database.\n",
    "#### Requirements:\n",
    "- colors by detection method:\n",
    "    - `Radial Velocities` - Blue\n",
    "    - `Transits and Transit Timing Variations` - Red\n",
    "    - All other methods - Green\n",
    "- marker size proportional to their radii\n",
    "\n",
    "\n",
    "#### &rarr; Print on the console a table with selected exoplanet data.\n",
    "#### Requirements:\n",
    "- select only planets detected via the `radial velocity` method\n",
    "- select the 20 most massive planets\n",
    "- table should have 5 columns:\n",
    "    - planet name\n",
    "    - period\n",
    "    - mass\n",
    "    - host magnitude\n",
    "    - planet orbital semi-amplitude\n",
    "- table should have as headers the `exoplanet.eu` keywords for each column, as well as the units.\n",
    "- table should be nicely formatted, with all column values right aligned, horizontal separators between the header and data, vertical separators between each column.\n",
    "\n",
    "\n",
    "\n",
    "\n",
    "### _ Tips _\n",
    "- you can use astroquery to query the `exoplanet.eu` database\n",
    "- check the `markersize` attribute for the `plot` function\n"
   ],
   "cell_type": "markdown",
   "metadata": {}
  },
  {
   "source": [
    "--- \n",
    "\n",
    "\n",
    "<img align=\"left\" width=\"500\" src=\"./know_more_banner.png\">  <br />  <br />  \n",
    "\n",
    "email us at <Jorge.Martins@astro.up.pt> or <Andre.Silva@astro.up.pt>"
   ],
   "cell_type": "markdown",
   "metadata": {}
  }
 ]
}